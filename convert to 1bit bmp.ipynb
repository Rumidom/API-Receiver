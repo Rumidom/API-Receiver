{
 "cells": [
  {
   "cell_type": "code",
   "execution_count": 3,
   "id": "e31c8d17-a7c4-444f-86a1-d75837c8ab0d",
   "metadata": {},
   "outputs": [
    {
     "data": {
      "text/plain": [
       "['weather_code_sprt/partially_cloudy.bmp',\n",
       " 'weather_code_sprt/thunder_storm.bmp',\n",
       " 'weather_code_sprt/sunny.bmp',\n",
       " 'weather_code_sprt/hazy.bmp',\n",
       " 'weather_code_sprt/mostly_sunny.bmp',\n",
       " 'weather_code_sprt/rain.bmp',\n",
       " 'weather_code_sprt/snow.bmp',\n",
       " 'weather_code_sprt/cloudy.bmp']"
      ]
     },
     "execution_count": 3,
     "metadata": {},
     "output_type": "execute_result"
    }
   ],
   "source": [
    "import glob\n",
    "from PIL import Image\n",
    "\n",
    "bmp_list = glob.glob('weather_code_sprt/*.bmp')\n",
    "\n",
    "for bmp in bmp_list: \n",
    "    im = Image.open(bmp)\n",
    "    \n",
    "    im.save(bmp)"
   ]
  },
  {
   "cell_type": "code",
   "execution_count": null,
   "id": "412efbe1-3298-4fea-95fd-fa7d95e68e50",
   "metadata": {},
   "outputs": [],
   "source": []
  }
 ],
 "metadata": {
  "kernelspec": {
   "display_name": "Python 3 (ipykernel)",
   "language": "python",
   "name": "python3"
  },
  "language_info": {
   "codemirror_mode": {
    "name": "ipython",
    "version": 3
   },
   "file_extension": ".py",
   "mimetype": "text/x-python",
   "name": "python",
   "nbconvert_exporter": "python",
   "pygments_lexer": "ipython3",
   "version": "3.13.3"
  }
 },
 "nbformat": 4,
 "nbformat_minor": 5
}
